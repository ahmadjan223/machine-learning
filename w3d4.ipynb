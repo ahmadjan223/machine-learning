{
  "cells": [
    {
      "cell_type": "markdown",
      "metadata": {
        "id": "view-in-github",
        "colab_type": "text"
      },
      "source": [
        "<a href=\"https://colab.research.google.com/github/ahmadjan223/machine-learning/blob/main/w3d4.ipynb\" target=\"_parent\"><img src=\"https://colab.research.google.com/assets/colab-badge.svg\" alt=\"Open In Colab\"/></a>"
      ]
    },
    {
      "cell_type": "code",
      "execution_count": 6,
      "metadata": {
        "id": "B55VghkfLKLz"
      },
      "outputs": [],
      "source": [
        "#import required libraries\n",
        "import tensorflow as tf\n",
        "import numpy as np\n",
        "from tensorflow.keras.preprocessing import image\n",
        "from tensorflow.keras import layers, models\n",
        "from tensorflow.keras.applications import VGG16\n",
        "from tensorflow.keras.preprocessing.image import ImageDataGenerator\n",
        "from tensorflow.keras.optimizers import Adam\n",
        "from sklearn.model_selection import train_test_split\n",
        "import glob\n",
        "import os\n",
        "import pandas as pd\n",
        "\n"
      ]
    },
    {
      "cell_type": "code",
      "source": [
        "#Unzip dataset\n",
        "!unzip /content/Flowers.zip"
      ],
      "metadata": {
        "colab": {
          "base_uri": "https://localhost:8080/"
        },
        "id": "6sQXIMQclCZT",
        "outputId": "7fac0e51-b821-45cb-9c0c-b127a12b46db"
      },
      "execution_count": 4,
      "outputs": [
        {
          "output_type": "stream",
          "name": "stdout",
          "text": [
            "Archive:  /content/Flowers.zip\n",
            "   creating: Data/Sunflower/\n",
            "  inflating: Data/Sunflower/Sunflower (1).jpg  \n",
            "  inflating: Data/Sunflower/Sunflower (10).jpg  \n",
            "  inflating: Data/Sunflower/Sunflower (100).jpg  \n",
            "  inflating: Data/Sunflower/Sunflower (11).jpg  \n",
            "  inflating: Data/Sunflower/Sunflower (12).jpg  \n",
            "  inflating: Data/Sunflower/Sunflower (13).jpg  \n",
            "  inflating: Data/Sunflower/Sunflower (14).jpg  \n",
            "  inflating: Data/Sunflower/Sunflower (15).jpg  \n",
            "  inflating: Data/Sunflower/Sunflower (16).jpg  \n",
            "  inflating: Data/Sunflower/Sunflower (17).jpg  \n",
            "  inflating: Data/Sunflower/Sunflower (18).jpg  \n",
            "  inflating: Data/Sunflower/Sunflower (19).jpg  \n",
            "  inflating: Data/Sunflower/Sunflower (2).jpg  \n",
            "  inflating: Data/Sunflower/Sunflower (20).jpg  \n",
            "  inflating: Data/Sunflower/Sunflower (21).jpg  \n",
            "  inflating: Data/Sunflower/Sunflower (22).jpg  \n",
            "  inflating: Data/Sunflower/Sunflower (23).jpg  \n",
            "  inflating: Data/Sunflower/Sunflower (24).jpg  \n",
            "  inflating: Data/Sunflower/Sunflower (25).jpg  \n",
            "  inflating: Data/Sunflower/Sunflower (26).jpg  \n",
            "  inflating: Data/Sunflower/Sunflower (27).jpg  \n",
            "  inflating: Data/Sunflower/Sunflower (28).jpg  \n",
            "  inflating: Data/Sunflower/Sunflower (29).jpg  \n",
            "  inflating: Data/Sunflower/Sunflower (3).jpg  \n",
            "  inflating: Data/Sunflower/Sunflower (30).jpg  \n",
            "  inflating: Data/Sunflower/Sunflower (31).jpg  \n",
            "  inflating: Data/Sunflower/Sunflower (32).jpg  \n",
            "  inflating: Data/Sunflower/Sunflower (33).jpg  \n",
            "  inflating: Data/Sunflower/Sunflower (34).jpg  \n",
            "  inflating: Data/Sunflower/Sunflower (35).jpg  \n",
            "  inflating: Data/Sunflower/Sunflower (36).jpg  \n",
            "  inflating: Data/Sunflower/Sunflower (37).jpg  \n",
            "  inflating: Data/Sunflower/Sunflower (38).jpg  \n",
            "  inflating: Data/Sunflower/Sunflower (39).jpg  \n",
            "  inflating: Data/Sunflower/Sunflower (4).jpg  \n",
            "  inflating: Data/Sunflower/Sunflower (40).jpg  \n",
            "  inflating: Data/Sunflower/Sunflower (41).jpg  \n",
            "  inflating: Data/Sunflower/Sunflower (42).jpg  \n",
            "  inflating: Data/Sunflower/Sunflower (43).jpg  \n",
            "  inflating: Data/Sunflower/Sunflower (44).jpg  \n",
            "  inflating: Data/Sunflower/Sunflower (45).jpg  \n",
            "  inflating: Data/Sunflower/Sunflower (46).jpg  \n",
            "  inflating: Data/Sunflower/Sunflower (47).jpg  \n",
            "  inflating: Data/Sunflower/Sunflower (48).jpg  \n",
            "  inflating: Data/Sunflower/Sunflower (49).jpg  \n",
            "  inflating: Data/Sunflower/Sunflower (5).jpg  \n",
            "  inflating: Data/Sunflower/Sunflower (50).jpg  \n",
            "  inflating: Data/Sunflower/Sunflower (51).jpg  \n",
            "  inflating: Data/Sunflower/Sunflower (52).jpg  \n",
            "  inflating: Data/Sunflower/Sunflower (53).jpg  \n",
            "  inflating: Data/Sunflower/Sunflower (54).jpg  \n",
            "  inflating: Data/Sunflower/Sunflower (55).jpg  \n",
            "  inflating: Data/Sunflower/Sunflower (56).jpg  \n",
            "  inflating: Data/Sunflower/Sunflower (57).jpg  \n",
            "  inflating: Data/Sunflower/Sunflower (58).jpg  \n",
            "  inflating: Data/Sunflower/Sunflower (59).jpg  \n",
            "  inflating: Data/Sunflower/Sunflower (6).jpg  \n",
            "  inflating: Data/Sunflower/Sunflower (60).jpg  \n",
            "  inflating: Data/Sunflower/Sunflower (61).jpg  \n",
            "  inflating: Data/Sunflower/Sunflower (62).jpg  \n",
            "  inflating: Data/Sunflower/Sunflower (63).jpg  \n",
            "  inflating: Data/Sunflower/Sunflower (64).jpg  \n",
            "  inflating: Data/Sunflower/Sunflower (65).jpg  \n",
            "  inflating: Data/Sunflower/Sunflower (66).jpg  \n",
            "  inflating: Data/Sunflower/Sunflower (67).jpg  \n",
            "  inflating: Data/Sunflower/Sunflower (68).jpg  \n",
            "  inflating: Data/Sunflower/Sunflower (69).jpg  \n",
            "  inflating: Data/Sunflower/Sunflower (7).jpg  \n",
            "  inflating: Data/Sunflower/Sunflower (70).jpg  \n",
            "  inflating: Data/Sunflower/Sunflower (71).jpg  \n",
            "  inflating: Data/Sunflower/Sunflower (72).jpg  \n",
            "  inflating: Data/Sunflower/Sunflower (73).jpg  \n",
            "  inflating: Data/Sunflower/Sunflower (74).jpg  \n",
            "  inflating: Data/Sunflower/Sunflower (75).jpg  \n",
            "  inflating: Data/Sunflower/Sunflower (76).jpg  \n",
            "  inflating: Data/Sunflower/Sunflower (77).jpg  \n",
            "  inflating: Data/Sunflower/Sunflower (78).jpg  \n",
            "  inflating: Data/Sunflower/Sunflower (79).jpg  \n",
            "  inflating: Data/Sunflower/Sunflower (8).jpg  \n",
            "  inflating: Data/Sunflower/Sunflower (80).jpg  \n",
            "  inflating: Data/Sunflower/Sunflower (81).jpg  \n",
            "  inflating: Data/Sunflower/Sunflower (82).jpg  \n",
            "  inflating: Data/Sunflower/Sunflower (83).jpg  \n",
            "  inflating: Data/Sunflower/Sunflower (84).jpg  \n",
            "  inflating: Data/Sunflower/Sunflower (85).jpg  \n",
            "  inflating: Data/Sunflower/Sunflower (86).jpg  \n",
            "  inflating: Data/Sunflower/Sunflower (87).jpg  \n",
            "  inflating: Data/Sunflower/Sunflower (88).jpg  \n",
            "  inflating: Data/Sunflower/Sunflower (89).jpg  \n",
            "  inflating: Data/Sunflower/Sunflower (9).jpg  \n",
            "  inflating: Data/Sunflower/Sunflower (90).jpg  \n",
            "  inflating: Data/Sunflower/Sunflower (91).jpg  \n",
            "  inflating: Data/Sunflower/Sunflower (92).jpg  \n",
            "  inflating: Data/Sunflower/Sunflower (93).jpg  \n",
            "  inflating: Data/Sunflower/Sunflower (94).jpg  \n",
            "  inflating: Data/Sunflower/Sunflower (95).jpg  \n",
            "  inflating: Data/Sunflower/Sunflower (96).jpg  \n",
            "  inflating: Data/Sunflower/Sunflower (97).jpg  \n",
            "  inflating: Data/Sunflower/Sunflower (98).jpg  \n",
            "  inflating: Data/Sunflower/Sunflower (99).jpg  \n",
            "   creating: Data/Tulip/\n",
            "  inflating: Data/Tulip/Tulip (1).jpg  \n",
            "  inflating: Data/Tulip/Tulip (10).jpg  \n",
            "  inflating: Data/Tulip/Tulip (100).jpg  \n",
            "  inflating: Data/Tulip/Tulip (11).jpg  \n",
            "  inflating: Data/Tulip/Tulip (12).jpg  \n",
            "  inflating: Data/Tulip/Tulip (13).jpg  \n",
            "  inflating: Data/Tulip/Tulip (14).jpg  \n",
            "  inflating: Data/Tulip/Tulip (15).jpg  \n",
            "  inflating: Data/Tulip/Tulip (16).jpg  \n",
            "  inflating: Data/Tulip/Tulip (17).jpg  \n",
            "  inflating: Data/Tulip/Tulip (18).jpg  \n",
            "  inflating: Data/Tulip/Tulip (19).jpg  \n",
            "  inflating: Data/Tulip/Tulip (2).jpg  \n",
            "  inflating: Data/Tulip/Tulip (20).jpg  \n",
            "  inflating: Data/Tulip/Tulip (21).jpg  \n",
            "  inflating: Data/Tulip/Tulip (22).jpg  \n",
            "  inflating: Data/Tulip/Tulip (23).jpg  \n",
            "  inflating: Data/Tulip/Tulip (24).jpg  \n",
            "  inflating: Data/Tulip/Tulip (25).jpg  \n",
            "  inflating: Data/Tulip/Tulip (26).jpg  \n",
            "  inflating: Data/Tulip/Tulip (27).jpg  \n",
            "  inflating: Data/Tulip/Tulip (28).jpg  \n",
            "  inflating: Data/Tulip/Tulip (29).jpg  \n",
            "  inflating: Data/Tulip/Tulip (3).jpg  \n",
            "  inflating: Data/Tulip/Tulip (30).jpg  \n",
            "  inflating: Data/Tulip/Tulip (31).jpg  \n",
            "  inflating: Data/Tulip/Tulip (32).jpg  \n",
            "  inflating: Data/Tulip/Tulip (33).jpg  \n",
            "  inflating: Data/Tulip/Tulip (34).jpg  \n",
            "  inflating: Data/Tulip/Tulip (35).jpg  \n",
            "  inflating: Data/Tulip/Tulip (36).jpg  \n",
            "  inflating: Data/Tulip/Tulip (37).jpg  \n",
            "  inflating: Data/Tulip/Tulip (38).jpg  \n",
            "  inflating: Data/Tulip/Tulip (39).jpg  \n",
            "  inflating: Data/Tulip/Tulip (4).jpg  \n",
            "  inflating: Data/Tulip/Tulip (40).jpg  \n",
            "  inflating: Data/Tulip/Tulip (41).jpg  \n",
            "  inflating: Data/Tulip/Tulip (42).jpg  \n",
            "  inflating: Data/Tulip/Tulip (43).jpg  \n",
            "  inflating: Data/Tulip/Tulip (44).jpg  \n",
            "  inflating: Data/Tulip/Tulip (45).jpg  \n",
            "  inflating: Data/Tulip/Tulip (46).jpg  \n",
            "  inflating: Data/Tulip/Tulip (47).jpg  \n",
            "  inflating: Data/Tulip/Tulip (48).jpg  \n",
            "  inflating: Data/Tulip/Tulip (49).jpg  \n",
            "  inflating: Data/Tulip/Tulip (5).jpg  \n",
            "  inflating: Data/Tulip/Tulip (50).jpg  \n",
            "  inflating: Data/Tulip/Tulip (51).jpg  \n",
            "  inflating: Data/Tulip/Tulip (52).jpg  \n",
            "  inflating: Data/Tulip/Tulip (53).jpg  \n",
            "  inflating: Data/Tulip/Tulip (54).jpg  \n",
            "  inflating: Data/Tulip/Tulip (55).jpg  \n",
            "  inflating: Data/Tulip/Tulip (56).jpg  \n",
            "  inflating: Data/Tulip/Tulip (57).jpg  \n",
            "  inflating: Data/Tulip/Tulip (58).jpg  \n",
            "  inflating: Data/Tulip/Tulip (59).jpg  \n",
            "  inflating: Data/Tulip/Tulip (6).jpg  \n",
            "  inflating: Data/Tulip/Tulip (60).jpg  \n",
            "  inflating: Data/Tulip/Tulip (61).jpg  \n",
            "  inflating: Data/Tulip/Tulip (62).jpg  \n",
            "  inflating: Data/Tulip/Tulip (63).jpg  \n",
            "  inflating: Data/Tulip/Tulip (64).jpg  \n",
            "  inflating: Data/Tulip/Tulip (65).jpg  \n",
            "  inflating: Data/Tulip/Tulip (66).jpg  \n",
            "  inflating: Data/Tulip/Tulip (67).jpg  \n",
            "  inflating: Data/Tulip/Tulip (68).jpg  \n",
            "  inflating: Data/Tulip/Tulip (69).jpg  \n",
            "  inflating: Data/Tulip/Tulip (7).jpg  \n",
            "  inflating: Data/Tulip/Tulip (70).jpg  \n",
            "  inflating: Data/Tulip/Tulip (71).jpg  \n",
            "  inflating: Data/Tulip/Tulip (72).jpg  \n",
            "  inflating: Data/Tulip/Tulip (73).jpg  \n",
            "  inflating: Data/Tulip/Tulip (74).jpg  \n",
            "  inflating: Data/Tulip/Tulip (75).jpg  \n",
            "  inflating: Data/Tulip/Tulip (76).jpg  \n",
            "  inflating: Data/Tulip/Tulip (77).jpg  \n",
            "  inflating: Data/Tulip/Tulip (78).jpg  \n",
            "  inflating: Data/Tulip/Tulip (79).jpg  \n",
            "  inflating: Data/Tulip/Tulip (8).jpg  \n",
            "  inflating: Data/Tulip/Tulip (80).jpg  \n",
            "  inflating: Data/Tulip/Tulip (81).jpg  \n",
            "  inflating: Data/Tulip/Tulip (82).jpg  \n",
            "  inflating: Data/Tulip/Tulip (83).jpg  \n",
            "  inflating: Data/Tulip/Tulip (84).jpg  \n",
            "  inflating: Data/Tulip/Tulip (85).jpg  \n",
            "  inflating: Data/Tulip/Tulip (86).jpg  \n",
            "  inflating: Data/Tulip/Tulip (87).jpg  \n",
            "  inflating: Data/Tulip/Tulip (88).jpg  \n",
            "  inflating: Data/Tulip/Tulip (89).jpg  \n",
            "  inflating: Data/Tulip/Tulip (9).jpg  \n",
            "  inflating: Data/Tulip/Tulip (90).jpg  \n",
            "  inflating: Data/Tulip/Tulip (91).jpg  \n",
            "  inflating: Data/Tulip/Tulip (92).jpg  \n",
            "  inflating: Data/Tulip/Tulip (93).jpg  \n",
            "  inflating: Data/Tulip/Tulip (94).jpg  \n",
            "  inflating: Data/Tulip/Tulip (95).jpg  \n",
            "  inflating: Data/Tulip/Tulip (96).jpg  \n",
            "  inflating: Data/Tulip/Tulip (97).jpg  \n",
            "  inflating: Data/Tulip/Tulip (98).jpg  \n",
            "  inflating: Data/Tulip/Tulip (99).jpg  \n"
          ]
        }
      ]
    },
    {
      "cell_type": "code",
      "execution_count": 11,
      "metadata": {
        "colab": {
          "base_uri": "https://localhost:8080/"
        },
        "id": "DJDX22HtPR_k",
        "outputId": "b42ab78b-0776-416b-b4da-f27e930a5284"
      },
      "outputs": [
        {
          "output_type": "stream",
          "name": "stdout",
          "text": [
            "['Tulip', 'Sunflower']\n",
            "['/content/Data/Tulip/Tulip (76).jpg', '/content/Data/Tulip/Tulip (100).jpg', '/content/Data/Tulip/Tulip (44).jpg', '/content/Data/Tulip/Tulip (19).jpg', '/content/Data/Tulip/Tulip (63).jpg', '/content/Data/Tulip/Tulip (58).jpg', '/content/Data/Tulip/Tulip (92).jpg', '/content/Data/Tulip/Tulip (53).jpg', '/content/Data/Tulip/Tulip (82).jpg', '/content/Data/Tulip/Tulip (24).jpg', '/content/Data/Tulip/Tulip (69).jpg', '/content/Data/Tulip/Tulip (64).jpg', '/content/Data/Tulip/Tulip (46).jpg', '/content/Data/Tulip/Tulip (30).jpg', '/content/Data/Tulip/Tulip (5).jpg', '/content/Data/Tulip/Tulip (85).jpg', '/content/Data/Tulip/Tulip (75).jpg', '/content/Data/Tulip/Tulip (27).jpg', '/content/Data/Tulip/Tulip (80).jpg', '/content/Data/Tulip/Tulip (13).jpg', '/content/Data/Tulip/Tulip (91).jpg', '/content/Data/Tulip/Tulip (87).jpg', '/content/Data/Tulip/Tulip (9).jpg', '/content/Data/Tulip/Tulip (96).jpg', '/content/Data/Tulip/Tulip (41).jpg', '/content/Data/Tulip/Tulip (90).jpg', '/content/Data/Tulip/Tulip (3).jpg', '/content/Data/Tulip/Tulip (28).jpg', '/content/Data/Tulip/Tulip (52).jpg', '/content/Data/Tulip/Tulip (86).jpg', '/content/Data/Tulip/Tulip (73).jpg', '/content/Data/Tulip/Tulip (34).jpg', '/content/Data/Tulip/Tulip (47).jpg', '/content/Data/Tulip/Tulip (12).jpg', '/content/Data/Tulip/Tulip (1).jpg', '/content/Data/Tulip/Tulip (95).jpg', '/content/Data/Tulip/Tulip (33).jpg', '/content/Data/Tulip/Tulip (71).jpg', '/content/Data/Tulip/Tulip (70).jpg', '/content/Data/Tulip/Tulip (40).jpg', '/content/Data/Tulip/Tulip (98).jpg', '/content/Data/Tulip/Tulip (29).jpg', '/content/Data/Tulip/Tulip (31).jpg', '/content/Data/Tulip/Tulip (62).jpg', '/content/Data/Tulip/Tulip (45).jpg', '/content/Data/Tulip/Tulip (7).jpg', '/content/Data/Tulip/Tulip (57).jpg', '/content/Data/Tulip/Tulip (18).jpg', '/content/Data/Tulip/Tulip (26).jpg', '/content/Data/Tulip/Tulip (22).jpg', '/content/Data/Tulip/Tulip (8).jpg', '/content/Data/Tulip/Tulip (79).jpg', '/content/Data/Tulip/Tulip (4).jpg', '/content/Data/Tulip/Tulip (49).jpg', '/content/Data/Tulip/Tulip (43).jpg', '/content/Data/Tulip/Tulip (32).jpg', '/content/Data/Tulip/Tulip (10).jpg', '/content/Data/Tulip/Tulip (35).jpg', '/content/Data/Tulip/Tulip (17).jpg', '/content/Data/Tulip/Tulip (21).jpg', '/content/Data/Tulip/Tulip (68).jpg', '/content/Data/Tulip/Tulip (78).jpg', '/content/Data/Tulip/Tulip (66).jpg', '/content/Data/Tulip/Tulip (23).jpg', '/content/Data/Tulip/Tulip (99).jpg', '/content/Data/Tulip/Tulip (37).jpg', '/content/Data/Tulip/Tulip (84).jpg', '/content/Data/Tulip/Tulip (14).jpg', '/content/Data/Tulip/Tulip (15).jpg', '/content/Data/Tulip/Tulip (36).jpg', '/content/Data/Tulip/Tulip (39).jpg', '/content/Data/Tulip/Tulip (2).jpg', '/content/Data/Tulip/Tulip (97).jpg', '/content/Data/Tulip/Tulip (38).jpg', '/content/Data/Tulip/Tulip (42).jpg', '/content/Data/Tulip/Tulip (65).jpg', '/content/Data/Tulip/Tulip (94).jpg', '/content/Data/Tulip/Tulip (61).jpg', '/content/Data/Tulip/Tulip (77).jpg', '/content/Data/Tulip/Tulip (59).jpg', '/content/Data/Tulip/Tulip (6).jpg', '/content/Data/Tulip/Tulip (54).jpg', '/content/Data/Tulip/Tulip (50).jpg', '/content/Data/Tulip/Tulip (81).jpg', '/content/Data/Tulip/Tulip (89).jpg', '/content/Data/Tulip/Tulip (60).jpg', '/content/Data/Tulip/Tulip (25).jpg', '/content/Data/Tulip/Tulip (56).jpg', '/content/Data/Tulip/Tulip (83).jpg', '/content/Data/Tulip/Tulip (67).jpg', '/content/Data/Tulip/Tulip (88).jpg', '/content/Data/Tulip/Tulip (16).jpg', '/content/Data/Tulip/Tulip (20).jpg', '/content/Data/Tulip/Tulip (11).jpg', '/content/Data/Tulip/Tulip (55).jpg', '/content/Data/Tulip/Tulip (93).jpg', '/content/Data/Tulip/Tulip (48).jpg', '/content/Data/Tulip/Tulip (72).jpg', '/content/Data/Tulip/Tulip (74).jpg', '/content/Data/Tulip/Tulip (51).jpg', '/content/Data/Sunflower/Sunflower (90).jpg', '/content/Data/Sunflower/Sunflower (94).jpg', '/content/Data/Sunflower/Sunflower (37).jpg', '/content/Data/Sunflower/Sunflower (82).jpg', '/content/Data/Sunflower/Sunflower (61).jpg', '/content/Data/Sunflower/Sunflower (46).jpg', '/content/Data/Sunflower/Sunflower (24).jpg', '/content/Data/Sunflower/Sunflower (9).jpg', '/content/Data/Sunflower/Sunflower (96).jpg', '/content/Data/Sunflower/Sunflower (16).jpg', '/content/Data/Sunflower/Sunflower (93).jpg', '/content/Data/Sunflower/Sunflower (97).jpg', '/content/Data/Sunflower/Sunflower (7).jpg', '/content/Data/Sunflower/Sunflower (57).jpg', '/content/Data/Sunflower/Sunflower (59).jpg', '/content/Data/Sunflower/Sunflower (13).jpg', '/content/Data/Sunflower/Sunflower (88).jpg', '/content/Data/Sunflower/Sunflower (65).jpg', '/content/Data/Sunflower/Sunflower (77).jpg', '/content/Data/Sunflower/Sunflower (49).jpg', '/content/Data/Sunflower/Sunflower (19).jpg', '/content/Data/Sunflower/Sunflower (55).jpg', '/content/Data/Sunflower/Sunflower (10).jpg', '/content/Data/Sunflower/Sunflower (47).jpg', '/content/Data/Sunflower/Sunflower (44).jpg', '/content/Data/Sunflower/Sunflower (25).jpg', '/content/Data/Sunflower/Sunflower (38).jpg', '/content/Data/Sunflower/Sunflower (3).jpg', '/content/Data/Sunflower/Sunflower (2).jpg', '/content/Data/Sunflower/Sunflower (63).jpg', '/content/Data/Sunflower/Sunflower (99).jpg', '/content/Data/Sunflower/Sunflower (31).jpg', '/content/Data/Sunflower/Sunflower (71).jpg', '/content/Data/Sunflower/Sunflower (4).jpg', '/content/Data/Sunflower/Sunflower (60).jpg', '/content/Data/Sunflower/Sunflower (100).jpg', '/content/Data/Sunflower/Sunflower (81).jpg', '/content/Data/Sunflower/Sunflower (83).jpg', '/content/Data/Sunflower/Sunflower (53).jpg', '/content/Data/Sunflower/Sunflower (86).jpg', '/content/Data/Sunflower/Sunflower (91).jpg', '/content/Data/Sunflower/Sunflower (18).jpg', '/content/Data/Sunflower/Sunflower (20).jpg', '/content/Data/Sunflower/Sunflower (17).jpg', '/content/Data/Sunflower/Sunflower (21).jpg', '/content/Data/Sunflower/Sunflower (35).jpg', '/content/Data/Sunflower/Sunflower (30).jpg', '/content/Data/Sunflower/Sunflower (78).jpg', '/content/Data/Sunflower/Sunflower (48).jpg', '/content/Data/Sunflower/Sunflower (8).jpg', '/content/Data/Sunflower/Sunflower (58).jpg', '/content/Data/Sunflower/Sunflower (15).jpg', '/content/Data/Sunflower/Sunflower (66).jpg', '/content/Data/Sunflower/Sunflower (26).jpg', '/content/Data/Sunflower/Sunflower (80).jpg', '/content/Data/Sunflower/Sunflower (79).jpg', '/content/Data/Sunflower/Sunflower (14).jpg', '/content/Data/Sunflower/Sunflower (33).jpg', '/content/Data/Sunflower/Sunflower (11).jpg', '/content/Data/Sunflower/Sunflower (39).jpg', '/content/Data/Sunflower/Sunflower (92).jpg', '/content/Data/Sunflower/Sunflower (22).jpg', '/content/Data/Sunflower/Sunflower (89).jpg', '/content/Data/Sunflower/Sunflower (52).jpg', '/content/Data/Sunflower/Sunflower (51).jpg', '/content/Data/Sunflower/Sunflower (73).jpg', '/content/Data/Sunflower/Sunflower (27).jpg', '/content/Data/Sunflower/Sunflower (23).jpg', '/content/Data/Sunflower/Sunflower (98).jpg', '/content/Data/Sunflower/Sunflower (74).jpg', '/content/Data/Sunflower/Sunflower (95).jpg', '/content/Data/Sunflower/Sunflower (67).jpg', '/content/Data/Sunflower/Sunflower (40).jpg', '/content/Data/Sunflower/Sunflower (32).jpg', '/content/Data/Sunflower/Sunflower (70).jpg', '/content/Data/Sunflower/Sunflower (76).jpg', '/content/Data/Sunflower/Sunflower (41).jpg', '/content/Data/Sunflower/Sunflower (87).jpg', '/content/Data/Sunflower/Sunflower (12).jpg', '/content/Data/Sunflower/Sunflower (85).jpg', '/content/Data/Sunflower/Sunflower (69).jpg', '/content/Data/Sunflower/Sunflower (54).jpg', '/content/Data/Sunflower/Sunflower (43).jpg', '/content/Data/Sunflower/Sunflower (64).jpg', '/content/Data/Sunflower/Sunflower (36).jpg', '/content/Data/Sunflower/Sunflower (56).jpg', '/content/Data/Sunflower/Sunflower (1).jpg', '/content/Data/Sunflower/Sunflower (45).jpg', '/content/Data/Sunflower/Sunflower (28).jpg', '/content/Data/Sunflower/Sunflower (75).jpg', '/content/Data/Sunflower/Sunflower (42).jpg', '/content/Data/Sunflower/Sunflower (62).jpg', '/content/Data/Sunflower/Sunflower (5).jpg', '/content/Data/Sunflower/Sunflower (34).jpg', '/content/Data/Sunflower/Sunflower (50).jpg', '/content/Data/Sunflower/Sunflower (72).jpg', '/content/Data/Sunflower/Sunflower (29).jpg', '/content/Data/Sunflower/Sunflower (6).jpg', '/content/Data/Sunflower/Sunflower (84).jpg', '/content/Data/Sunflower/Sunflower (68).jpg'] ['Tulip', 'Tulip', 'Tulip', 'Tulip', 'Tulip', 'Tulip', 'Tulip', 'Tulip', 'Tulip', 'Tulip', 'Tulip', 'Tulip', 'Tulip', 'Tulip', 'Tulip', 'Tulip', 'Tulip', 'Tulip', 'Tulip', 'Tulip', 'Tulip', 'Tulip', 'Tulip', 'Tulip', 'Tulip', 'Tulip', 'Tulip', 'Tulip', 'Tulip', 'Tulip', 'Tulip', 'Tulip', 'Tulip', 'Tulip', 'Tulip', 'Tulip', 'Tulip', 'Tulip', 'Tulip', 'Tulip', 'Tulip', 'Tulip', 'Tulip', 'Tulip', 'Tulip', 'Tulip', 'Tulip', 'Tulip', 'Tulip', 'Tulip', 'Tulip', 'Tulip', 'Tulip', 'Tulip', 'Tulip', 'Tulip', 'Tulip', 'Tulip', 'Tulip', 'Tulip', 'Tulip', 'Tulip', 'Tulip', 'Tulip', 'Tulip', 'Tulip', 'Tulip', 'Tulip', 'Tulip', 'Tulip', 'Tulip', 'Tulip', 'Tulip', 'Tulip', 'Tulip', 'Tulip', 'Tulip', 'Tulip', 'Tulip', 'Tulip', 'Tulip', 'Tulip', 'Tulip', 'Tulip', 'Tulip', 'Tulip', 'Tulip', 'Tulip', 'Tulip', 'Tulip', 'Tulip', 'Tulip', 'Tulip', 'Tulip', 'Tulip', 'Tulip', 'Tulip', 'Tulip', 'Tulip', 'Tulip', 'Sunflower', 'Sunflower', 'Sunflower', 'Sunflower', 'Sunflower', 'Sunflower', 'Sunflower', 'Sunflower', 'Sunflower', 'Sunflower', 'Sunflower', 'Sunflower', 'Sunflower', 'Sunflower', 'Sunflower', 'Sunflower', 'Sunflower', 'Sunflower', 'Sunflower', 'Sunflower', 'Sunflower', 'Sunflower', 'Sunflower', 'Sunflower', 'Sunflower', 'Sunflower', 'Sunflower', 'Sunflower', 'Sunflower', 'Sunflower', 'Sunflower', 'Sunflower', 'Sunflower', 'Sunflower', 'Sunflower', 'Sunflower', 'Sunflower', 'Sunflower', 'Sunflower', 'Sunflower', 'Sunflower', 'Sunflower', 'Sunflower', 'Sunflower', 'Sunflower', 'Sunflower', 'Sunflower', 'Sunflower', 'Sunflower', 'Sunflower', 'Sunflower', 'Sunflower', 'Sunflower', 'Sunflower', 'Sunflower', 'Sunflower', 'Sunflower', 'Sunflower', 'Sunflower', 'Sunflower', 'Sunflower', 'Sunflower', 'Sunflower', 'Sunflower', 'Sunflower', 'Sunflower', 'Sunflower', 'Sunflower', 'Sunflower', 'Sunflower', 'Sunflower', 'Sunflower', 'Sunflower', 'Sunflower', 'Sunflower', 'Sunflower', 'Sunflower', 'Sunflower', 'Sunflower', 'Sunflower', 'Sunflower', 'Sunflower', 'Sunflower', 'Sunflower', 'Sunflower', 'Sunflower', 'Sunflower', 'Sunflower', 'Sunflower', 'Sunflower', 'Sunflower', 'Sunflower', 'Sunflower', 'Sunflower', 'Sunflower', 'Sunflower', 'Sunflower', 'Sunflower', 'Sunflower', 'Sunflower']\n"
          ]
        }
      ],
      "source": [
        "\n",
        "#Make data frames of data\n",
        "data = '/content/Data'\n",
        "categories = os.listdir(data)\n",
        "print(categories)\n",
        "X, y = [], []\n",
        "for category in categories:\n",
        "    path = os.path.join(data, category)\n",
        "    for img in os.listdir(path):\n",
        "        img_path = os.path.join(path, img)\n",
        "        X.append(img_path)\n",
        "        y.append(category)"
      ]
    },
    {
      "cell_type": "code",
      "execution_count": 12,
      "metadata": {
        "id": "bz9DNOxGPTk0"
      },
      "outputs": [],
      "source": [
        "#Test train split\n",
        "X_train, X_val, y_train, y_val = train_test_split(X, y, test_size=0.3, random_state=101)\n"
      ]
    },
    {
      "cell_type": "code",
      "source": [
        "train_df = pd.DataFrame({'FileName':X_train, 'Category':y_train})\n",
        "val_df = pd.DataFrame({'FileName':X_val, 'Category':y_val})\n"
      ],
      "metadata": {
        "id": "d8m6AYJwm3e0"
      },
      "execution_count": 13,
      "outputs": []
    },
    {
      "cell_type": "code",
      "source": [
        "#Data Pre-processing with augmentation\n",
        "train_datagen = ImageDataGenerator(rescale=1./255,\n",
        "                                  horizontal_flip=True,\n",
        "                                  shear_range=0.2,\n",
        "                                  zoom_range=0.2)\n",
        "\n",
        "training_set = train_datagen.flow_from_dataframe(train_df,\n",
        "                                                x_col='FileName',\n",
        "                                                y_col='Category',\n",
        "batch_size=32,\n",
        "                                                class_mode='categorical',\n",
        "                                                target_size=(224, 224))\n",
        "\n",
        "validation_set = train_datagen.flow_from_dataframe(val_df,\n",
        "                                                x_col='FileName',\n",
        "                                                y_col='Category',\n",
        "batch_size=32,\n",
        "                                                class_mode='categorical',\n",
        "                                                target_size=(224, 224))\n"
      ],
      "metadata": {
        "colab": {
          "base_uri": "https://localhost:8080/"
        },
        "id": "ofwiRWqynPBU",
        "outputId": "2e5a8e86-c903-40ae-8684-2b58d75148ea"
      },
      "execution_count": 14,
      "outputs": [
        {
          "output_type": "stream",
          "name": "stdout",
          "text": [
            "Found 140 validated image filenames belonging to 2 classes.\n",
            "Found 60 validated image filenames belonging to 2 classes.\n"
          ]
        }
      ]
    },
    {
      "cell_type": "code",
      "source": [
        "# # Load the VGG16 model with pre-trained weights (excluding the top FC layers)\n",
        "# base_model = VGG16(weights='imagenet', include_top=False, input_shape=(224, 224, 3))\n",
        "\n",
        "from tensorflow.keras.applications import ResNet50\n",
        "\n",
        "# Load the ResNet50 model with pre-trained weights (excluding the top FC layers)\n",
        "base_model = ResNet50(weights='imagenet', include_top=False, input_shape=(224, 224, 3))\n"
      ],
      "metadata": {
        "colab": {
          "base_uri": "https://localhost:8080/"
        },
        "id": "s7FtvnihnjmQ",
        "outputId": "5f8787d1-4eb8-4360-8484-468c3860803a"
      },
      "execution_count": 23,
      "outputs": [
        {
          "output_type": "stream",
          "name": "stdout",
          "text": [
            "Downloading data from https://storage.googleapis.com/tensorflow/keras-applications/resnet/resnet50_weights_tf_dim_ordering_tf_kernels_notop.h5\n",
            "94765736/94765736 [==============================] - 5s 0us/step\n"
          ]
        }
      ]
    },
    {
      "cell_type": "code",
      "source": [
        "# Freeze the layers of the pre-trained model\n",
        "for layer in base_model.layers:\n",
        "    layer.trainable = False\n"
      ],
      "metadata": {
        "id": "9r0QArcznoi_"
      },
      "execution_count": 24,
      "outputs": []
    },
    {
      "cell_type": "code",
      "source": [
        "# Create a new model on top of the pre-trained model\n",
        "model = models.Sequential()\n",
        "model.add(base_model)\n",
        "model.add(layers.Flatten())\n",
        "model.add(layers.Dense(256, activation='relu'))\n",
        "model.add(layers.Dropout(0.5))\n",
        "model.add(layers.Dense(units=len(categories), activation='softmax'))\n"
      ],
      "metadata": {
        "id": "GvUcsSminq1O"
      },
      "execution_count": 25,
      "outputs": []
    },
    {
      "cell_type": "code",
      "source": [
        "# Compile the model\n",
        "batch_size=32\n",
        "model.compile(optimizer=Adam(lr=1e-4),\n",
        "              loss='categorical_crossentropy',\n",
        "              metrics=['accuracy'])\n"
      ],
      "metadata": {
        "colab": {
          "base_uri": "https://localhost:8080/"
        },
        "id": "kPaJphX_nt1j",
        "outputId": "592ce6e5-d3da-4405-e20e-b9161a4ad24c"
      },
      "execution_count": 26,
      "outputs": [
        {
          "output_type": "stream",
          "name": "stderr",
          "text": [
            "WARNING:absl:`lr` is deprecated in Keras optimizer, please use `learning_rate` or use the legacy optimizer, e.g.,tf.keras.optimizers.legacy.Adam.\n"
          ]
        }
      ]
    },
    {
      "cell_type": "code",
      "source": [
        "# Display model summary\n",
        "model.summary()\n"
      ],
      "metadata": {
        "colab": {
          "base_uri": "https://localhost:8080/"
        },
        "id": "S-MfF3VlnvkH",
        "outputId": "4b8b62e9-3c1d-42e1-b471-72ee5a2e35f4"
      },
      "execution_count": 27,
      "outputs": [
        {
          "output_type": "stream",
          "name": "stdout",
          "text": [
            "Model: \"sequential_1\"\n",
            "_________________________________________________________________\n",
            " Layer (type)                Output Shape              Param #   \n",
            "=================================================================\n",
            " resnet50 (Functional)       (None, 7, 7, 2048)        23587712  \n",
            "                                                                 \n",
            " flatten_1 (Flatten)         (None, 100352)            0         \n",
            "                                                                 \n",
            " dense_2 (Dense)             (None, 256)               25690368  \n",
            "                                                                 \n",
            " dropout_1 (Dropout)         (None, 256)               0         \n",
            "                                                                 \n",
            " dense_3 (Dense)             (None, 2)                 514       \n",
            "                                                                 \n",
            "=================================================================\n",
            "Total params: 49278594 (187.98 MB)\n",
            "Trainable params: 25690882 (98.00 MB)\n",
            "Non-trainable params: 23587712 (89.98 MB)\n",
            "_________________________________________________________________\n"
          ]
        }
      ]
    },
    {
      "cell_type": "code",
      "source": [
        "# Train the model\n",
        "history = model.fit(x=training_set, validation_data=validation_set, epochs=10)\n"
      ],
      "metadata": {
        "colab": {
          "base_uri": "https://localhost:8080/"
        },
        "id": "kpWdDO70nxQm",
        "outputId": "a9f821b5-f174-401f-cef7-d8a6854cff32"
      },
      "execution_count": 28,
      "outputs": [
        {
          "output_type": "stream",
          "name": "stdout",
          "text": [
            "Epoch 1/10\n",
            "5/5 [==============================] - 13s 2s/step - loss: 10.8746 - accuracy: 0.5071 - val_loss: 15.0578 - val_accuracy: 0.4500\n",
            "Epoch 2/10\n",
            "5/5 [==============================] - 3s 576ms/step - loss: 8.8644 - accuracy: 0.5500 - val_loss: 7.2657 - val_accuracy: 0.5500\n",
            "Epoch 3/10\n",
            "5/5 [==============================] - 4s 849ms/step - loss: 6.1064 - accuracy: 0.5071 - val_loss: 1.1029 - val_accuracy: 0.6333\n",
            "Epoch 4/10\n",
            "5/5 [==============================] - 3s 585ms/step - loss: 5.7460 - accuracy: 0.5357 - val_loss: 3.5637 - val_accuracy: 0.5167\n",
            "Epoch 5/10\n",
            "5/5 [==============================] - 3s 628ms/step - loss: 5.3352 - accuracy: 0.6071 - val_loss: 1.0522 - val_accuracy: 0.6000\n",
            "Epoch 6/10\n",
            "5/5 [==============================] - 3s 595ms/step - loss: 3.1229 - accuracy: 0.5357 - val_loss: 0.8886 - val_accuracy: 0.6000\n",
            "Epoch 7/10\n",
            "5/5 [==============================] - 3s 528ms/step - loss: 1.6244 - accuracy: 0.5571 - val_loss: 0.6089 - val_accuracy: 0.7167\n",
            "Epoch 8/10\n",
            "5/5 [==============================] - 3s 583ms/step - loss: 1.2135 - accuracy: 0.5500 - val_loss: 0.6335 - val_accuracy: 0.6333\n",
            "Epoch 9/10\n",
            "5/5 [==============================] - 3s 667ms/step - loss: 0.6765 - accuracy: 0.6000 - val_loss: 0.6711 - val_accuracy: 0.6333\n",
            "Epoch 10/10\n",
            "5/5 [==============================] - 3s 666ms/step - loss: 0.6758 - accuracy: 0.6143 - val_loss: 0.7456 - val_accuracy: 0.5000\n"
          ]
        }
      ]
    },
    {
      "cell_type": "markdown",
      "source": [],
      "metadata": {
        "id": "h0scy4d7rxNO"
      }
    },
    {
      "cell_type": "code",
      "source": [
        "# Load the image you want to make predictions on\n",
        "new_image_path = '/content/Data/Sunflower/Sunflower (16).jpg'\n",
        " # Replace with the path to your image \"/content/Data/Tulip/Tulip (41).jpg\"\n",
        "img = image.load_img(new_image_path, target_size=(224, 224))\n",
        "img_array = image.img_to_array(img)\n",
        "\n",
        "# Expand dimensions to match batch size\n",
        "img_array = np.expand_dims(img_array, axis=0)\n",
        "\n",
        "# Preprocess the image (rescale pixel values)\n"
      ],
      "metadata": {
        "id": "bXf9kneonzSd"
      },
      "execution_count": 29,
      "outputs": []
    },
    {
      "cell_type": "code",
      "source": [
        "img_array = img_array / 255.0\n",
        "\n",
        "# Make predictions\n",
        "predictions = model.predict(img_array)\n",
        "\n",
        "# Get the predicted class label\n",
        "predicted_class_index = np.argmax(predictions)\n",
        "predicted_class = categories[predicted_class_index]\n",
        "print(\"Predicted Class:\", predicted_class)\n"
      ],
      "metadata": {
        "colab": {
          "base_uri": "https://localhost:8080/"
        },
        "id": "5f8RSCvEoHWi",
        "outputId": "be029762-1b6c-4a77-a090-1c1890432bf5"
      },
      "execution_count": 30,
      "outputs": [
        {
          "output_type": "stream",
          "name": "stdout",
          "text": [
            "1/1 [==============================] - 2s 2s/step\n",
            "Predicted Class: Tulip\n"
          ]
        }
      ]
    },
    {
      "cell_type": "code",
      "source": [],
      "metadata": {
        "id": "gwqjwLO5oNeF"
      },
      "execution_count": 30,
      "outputs": []
    }
  ],
  "metadata": {
    "colab": {
      "provenance": [],
      "gpuType": "T4",
      "authorship_tag": "ABX9TyOV2EqAx66UPxR1bATBYH9U",
      "include_colab_link": true
    },
    "kernelspec": {
      "display_name": "Python 3",
      "name": "python3"
    },
    "language_info": {
      "name": "python"
    },
    "accelerator": "GPU"
  },
  "nbformat": 4,
  "nbformat_minor": 0
}